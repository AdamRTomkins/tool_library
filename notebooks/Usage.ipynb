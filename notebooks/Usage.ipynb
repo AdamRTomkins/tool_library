{
 "cells": [
  {
   "cell_type": "markdown",
   "metadata": {},
   "source": [
    "# Tool Library"
   ]
  },
  {
   "cell_type": "markdown",
   "metadata": {},
   "source": [
    "f"
   ]
  },
  {
   "cell_type": "markdown",
   "metadata": {},
   "source": []
  },
  {
   "cell_type": "code",
   "execution_count": 1,
   "metadata": {},
   "outputs": [
    {
     "name": "stderr",
     "output_type": "stream",
     "text": [
      "/home/adam/miniconda3/envs/kalavai/lib/python3.11/site-packages/tqdm/auto.py:21: TqdmWarning: IProgress not found. Please update jupyter and ipywidgets. See https://ipywidgets.readthedocs.io/en/stable/user_install.html\n",
      "  from .autonotebook import tqdm as notebook_tqdm\n",
      "2024-01-16 14:01:51,895\tINFO util.py:159 -- Missing packages: ['ipywidgets']. Run `pip install -U ipywidgets`, then restart the notebook server for rich notebook output.\n"
     ]
    },
    {
     "ename": "ImportError",
     "evalue": "cannot import name 'FastApiToolBelt' from 'tool_library.factory' (/home/adam/Documents/repos/tool-library/tool_library/factory.py)",
     "output_type": "error",
     "traceback": [
      "\u001b[0;31m---------------------------------------------------------------------------\u001b[0m",
      "\u001b[0;31mImportError\u001b[0m                               Traceback (most recent call last)",
      "Cell \u001b[0;32mIn[1], line 1\u001b[0m\n\u001b[0;32m----> 1\u001b[0m \u001b[38;5;28;01mfrom\u001b[39;00m \u001b[38;5;21;01mtool_library\u001b[39;00m\u001b[38;5;21;01m.\u001b[39;00m\u001b[38;5;21;01mlibrary\u001b[39;00m \u001b[38;5;28;01mimport\u001b[39;00m ToolLibrary\n\u001b[1;32m      2\u001b[0m \u001b[38;5;28;01mfrom\u001b[39;00m \u001b[38;5;21;01mtool_library\u001b[39;00m\u001b[38;5;21;01m.\u001b[39;00m\u001b[38;5;21;01mtools\u001b[39;00m \u001b[38;5;28;01mimport\u001b[39;00m \u001b[38;5;241m*\u001b[39m\n\u001b[1;32m      3\u001b[0m \u001b[38;5;28;01mfrom\u001b[39;00m \u001b[38;5;21;01mtool_library\u001b[39;00m\u001b[38;5;21;01m.\u001b[39;00m\u001b[38;5;21;01mfactory\u001b[39;00m \u001b[38;5;28;01mimport\u001b[39;00m \u001b[38;5;241m*\u001b[39m\n",
      "File \u001b[0;32m~/Documents/repos/tool-library/tool_library/library.py:4\u001b[0m\n\u001b[1;32m      2\u001b[0m \u001b[38;5;28;01mfrom\u001b[39;00m \u001b[38;5;21;01mtool_library\u001b[39;00m\u001b[38;5;21;01m.\u001b[39;00m\u001b[38;5;21;01mtools\u001b[39;00m \u001b[38;5;28;01mimport\u001b[39;00m \u001b[38;5;241m*\u001b[39m\n\u001b[1;32m      3\u001b[0m \u001b[38;5;28;01mfrom\u001b[39;00m \u001b[38;5;21;01mtool_library\u001b[39;00m\u001b[38;5;21;01m.\u001b[39;00m\u001b[38;5;21;01mutils\u001b[39;00m \u001b[38;5;28;01mimport\u001b[39;00m \u001b[38;5;241m*\u001b[39m\n\u001b[0;32m----> 4\u001b[0m \u001b[38;5;28;01mfrom\u001b[39;00m \u001b[38;5;21;01mtool_library\u001b[39;00m\u001b[38;5;21;01m.\u001b[39;00m\u001b[38;5;21;01mfactory\u001b[39;00m \u001b[38;5;28;01mimport\u001b[39;00m FastApiToolBelt\n\u001b[1;32m      6\u001b[0m \u001b[38;5;66;03m# TODO: \u001b[39;00m\n\u001b[1;32m      7\u001b[0m \u001b[38;5;66;03m# Tool usage statistics\u001b[39;00m\n\u001b[1;32m      8\u001b[0m \u001b[38;5;28;01mclass\u001b[39;00m \u001b[38;5;21;01mToolLibrary\u001b[39;00m:\n",
      "\u001b[0;31mImportError\u001b[0m: cannot import name 'FastApiToolBelt' from 'tool_library.factory' (/home/adam/Documents/repos/tool-library/tool_library/factory.py)"
     ]
    }
   ],
   "source": [
    "from tool_library.library import ToolLibrary\n",
    "from tool_library.tools import *\n",
    "from tool_library.factory import *\n"
   ]
  },
  {
   "cell_type": "code",
   "execution_count": null,
   "metadata": {},
   "outputs": [],
   "source": [
    "tool_library = ToolLibrary()"
   ]
  },
  {
   "cell_type": "code",
   "execution_count": null,
   "metadata": {},
   "outputs": [],
   "source": [
    "from pydantic import BaseModel\n",
    "\n",
    "class ExampleModel(BaseModel):\n",
    "    field1: int\n",
    "    field2: str\n",
    "\n",
    "\n",
    "# Example of a simple function\n",
    "def add_numbers(a: int, b: int) -> int:\n",
    "    return a + b\n",
    "\n",
    "# Example of a function that takes a Pydantic model\n",
    "def process_model(data: ExampleModel):\n",
    "    # Process the data\n",
    "    return {\"processed\": True}\n",
    "\n",
    "# Create an instance of the ToolLibrary\n",
    "tool_library = ToolLibrary()\n",
    "\n",
    "# Register the tools\n",
    "tool_library.register_tool(\"Add Numbers\", \"Adds two numbers\", add_numbers)\n",
    "tool_library.register_tool(\"ProcessModel\", \"Processes data using a Pydantic model\", process_model)"
   ]
  },
  {
   "cell_type": "code",
   "execution_count": null,
   "metadata": {},
   "outputs": [
    {
     "data": {
      "text/plain": [
       "{'processed': True}"
      ]
     },
     "execution_count": 4,
     "metadata": {},
     "output_type": "execute_result"
    }
   ],
   "source": [
    "tool_library.find_tools(\"Process\")\n",
    "tool_library.execute_tool(\"ProcessModel\", {\"field1\": \"A\", \"field2\": 3})"
   ]
  },
  {
   "cell_type": "code",
   "execution_count": null,
   "metadata": {},
   "outputs": [],
   "source": [
    "@ray.remote\n",
    "def my_ray_function(x:str):\n",
    "    return x * x\n",
    "\n",
    "RayTool(\n",
    "    \"a\",\"b\",\n",
    "    my_ray_function\n",
    ")\n",
    "\n",
    "tool_library.register_tool(\n",
    "    name = \"ray_test2\",\n",
    "    description= \"ray_test\",\n",
    "    function = my_ray_function\n",
    ")"
   ]
  },
  {
   "cell_type": "code",
   "execution_count": null,
   "metadata": {},
   "outputs": [
    {
     "data": {
      "text/plain": [
       "[{'name': 'ray_test2', 'params': None}]"
      ]
     },
     "execution_count": 8,
     "metadata": {},
     "output_type": "execute_result"
    }
   ],
   "source": [
    "tool_library.find_tools(\"ray\")"
   ]
  },
  {
   "cell_type": "code",
   "execution_count": null,
   "metadata": {},
   "outputs": [],
   "source": []
  },
  {
   "cell_type": "code",
   "execution_count": null,
   "metadata": {},
   "outputs": [
    {
     "ename": "NameError",
     "evalue": "name 'FastApiToolBelt' is not defined",
     "output_type": "error",
     "traceback": [
      "\u001b[0;31m---------------------------------------------------------------------------\u001b[0m",
      "\u001b[0;31mNameError\u001b[0m                                 Traceback (most recent call last)",
      "Cell \u001b[0;32mIn[10], line 1\u001b[0m\n\u001b[0;32m----> 1\u001b[0m \u001b[43mtool_library\u001b[49m\u001b[38;5;241;43m.\u001b[39;49m\u001b[43mregister_api_tool\u001b[49m\u001b[43m(\u001b[49m\u001b[38;5;124;43m\"\u001b[39;49m\u001b[38;5;124;43mhttp://127.0.0.1:8000\u001b[39;49m\u001b[38;5;124;43m\"\u001b[39;49m\u001b[43m)\u001b[49m\n\u001b[1;32m      2\u001b[0m tool_library\u001b[38;5;241m.\u001b[39mfind_tools(\n\u001b[1;32m      3\u001b[0m     \u001b[38;5;124m\"\u001b[39m\u001b[38;5;124mlist\u001b[39m\u001b[38;5;124m\"\u001b[39m\n\u001b[1;32m      4\u001b[0m )\n\u001b[1;32m      6\u001b[0m library\u001b[38;5;241m.\u001b[39mexecute_tool(\u001b[38;5;124m\"\u001b[39m\u001b[38;5;124mPOST /v1/list_deepsparse_deployments\u001b[39m\u001b[38;5;124m\"\u001b[39m, params\u001b[38;5;241m=\u001b[39m{\u001b[38;5;124m\"\u001b[39m\u001b[38;5;124mnamespace\u001b[39m\u001b[38;5;124m\"\u001b[39m:\u001b[38;5;124m\"\u001b[39m\u001b[38;5;124mpetals-backend2\u001b[39m\u001b[38;5;124m\"\u001b[39m})\n",
      "File \u001b[0;32m~/Documents/repos/tool-library/tool_library/library.py:24\u001b[0m, in \u001b[0;36mToolLibrary.register_api_tool\u001b[0;34m(self, service_url, add_routes)\u001b[0m\n\u001b[1;32m     23\u001b[0m \u001b[38;5;28;01mdef\u001b[39;00m \u001b[38;5;21mregister_api_tool\u001b[39m(\u001b[38;5;28mself\u001b[39m, service_url\u001b[38;5;241m=\u001b[39m\u001b[38;5;124m\"\u001b[39m\u001b[38;5;124mhttp://127.0.0.1:8000\u001b[39m\u001b[38;5;124m\"\u001b[39m, add_routes\u001b[38;5;241m=\u001b[39m\u001b[38;5;28;01mNone\u001b[39;00m):\n\u001b[0;32m---> 24\u001b[0m     belt \u001b[38;5;241m=\u001b[39m \u001b[43mFastApiToolBelt\u001b[49m(\n\u001b[1;32m     25\u001b[0m         service_url\u001b[38;5;241m=\u001b[39mservice_url, add_routes\u001b[38;5;241m=\u001b[39madd_routes\n\u001b[1;32m     26\u001b[0m     )\n\u001b[1;32m     27\u001b[0m     belt\u001b[38;5;241m.\u001b[39mintrospect_service()\n\u001b[1;32m     29\u001b[0m     \u001b[38;5;28;01mfor\u001b[39;00m t \u001b[38;5;129;01min\u001b[39;00m  belt\u001b[38;5;241m.\u001b[39mtools:\n",
      "\u001b[0;31mNameError\u001b[0m: name 'FastApiToolBelt' is not defined"
     ]
    }
   ],
   "source": [
    "tool_library.register_api_tool(\"http://127.0.0.1:8000\")\n",
    "tool_library.find_tools(\n",
    "    \"list\"\n",
    ")\n",
    "\n",
    "library.execute_tool(\"POST /v1/list_deepsparse_deployments\", params={\"namespace\":\"petals-backend2\"})"
   ]
  },
  {
   "cell_type": "code",
   "execution_count": null,
   "metadata": {},
   "outputs": [
    {
     "data": {
      "text/plain": [
       "dict_keys(['GET /v1/get_cluster_capacity', 'GET /v1/get_cluster_labels', 'POST /v1/get_node_labels', 'POST /v1/get_node_stats', 'POST /v1/get_nodes_cost', 'POST /v1/get_namespaces_cost', 'POST /v1/deploy_deepsparse_model', 'POST /v1/delete_deepsparse_model', 'POST /v1/list_deepsparse_deployments', 'POST /v1/deploy_generic_model'])"
      ]
     },
     "execution_count": 85,
     "metadata": {},
     "output_type": "execute_result"
    }
   ],
   "source": [
    "library.tools.keys()"
   ]
  },
  {
   "cell_type": "code",
   "execution_count": null,
   "metadata": {},
   "outputs": [],
   "source": [
    "import requests\n",
    "from typing import Dict, Any, List\n",
    "from prance import ResolvingParser\n",
    "\n",
    "class FastApiRouteTool:\n",
    "    def __init__(self, name, description, method, endpoint_url, params):\n",
    "        self.name = name\n",
    "        self.description = description\n",
    "        self.method = method.upper()\n",
    "        self.endpoint_url = endpoint_url\n",
    "        self.params = params\n",
    "\n",
    "    def execute(self, payload: Dict, auth=None) -> Any:\n",
    "        headers = {}\n",
    "        if auth:\n",
    "            headers['Authorization'] = auth\n",
    "\n",
    "        try:\n",
    "            if self.method == 'GET':\n",
    "                response = requests.get(self.endpoint_url, params=payload, headers=headers)\n",
    "            elif self.method == 'POST':\n",
    "                response = requests.post(self.endpoint_url, json=payload, headers=headers)\n",
    "            # Add other HTTP methods as necessary\n",
    "            response.raise_for_status()\n",
    "            return response.json()\n",
    "        except requests.RequestException as e:\n",
    "            return {\"error\": str(e), \"response\": e.response.text}\n",
    "\n",
    "\n",
    "\n",
    "class FastApiToolFactory:\n",
    "    def __init__(self, service_url: str, add_routes:List[str]=None):\n",
    "        self.service_url = service_url\n",
    "        self.tools = []\n",
    "        self.schema = None\n",
    "        self.add_routes = add_routes\n",
    "        self.introspect_service()\n",
    "\n",
    "    def fetch_openapi_schema(self) -> None:\n",
    "        try:\n",
    "            # Use prance to load and resolve the OpenAPI specification\n",
    "            parser = ResolvingParser(f\"{self.service_url}/openapi.json\")\n",
    "            self.schema = parser.specification\n",
    "        except Exception as e:\n",
    "            raise ConnectionError(f\"Error resolving OpenAPI schema: {e}\")\n",
    "\n",
    "    def introspect_service(self) -> None:\n",
    "        if not self.schema:\n",
    "            self.fetch_openapi_schema()\n",
    "\n",
    "        for path, methods in self.schema.get('paths', {}).items():\n",
    "            if self.add_routes and path not in self.add_routes:\n",
    "                continue\n",
    "\n",
    "            for method, details in methods.items():\n",
    "                params = details\n",
    "                self._create_tool_from_endpoint(path, method, details, params)\n",
    "\n",
    "    def _create_tool_from_endpoint(self, path: str, method: str, details: Dict[str, Any], params: List[Dict[str, Any]]) -> None:\n",
    "        tool_name = f\"{method.upper()} {path}\"\n",
    "        description = details.get('summary', 'No description available')\n",
    "        endpoint_url = f\"{self.service_url}{path}\"\n",
    "        self.tools.append(FastApiRouteTool(tool_name, description, method, endpoint_url, params))"
   ]
  },
  {
   "cell_type": "code",
   "execution_count": null,
   "metadata": {},
   "outputs": [
    {
     "name": "stdout",
     "output_type": "stream",
     "text": [
      "get\n",
      "get\n",
      "post\n",
      "post\n",
      "post\n",
      "post\n",
      "post\n",
      "post\n",
      "post\n",
      "post\n",
      "GET /v1/get_cluster_capacity GET http://127.0.0.1:8000/v1/get_cluster_capacity {'summary': 'Cluster Capacity', 'operationId': 'cluster_capacity_v1_get_cluster_capacity_get', 'responses': {'200': {'description': 'Successful Response', 'content': {'application/json': {'schema': {}}}}}}\n",
      "GET /v1/get_cluster_labels GET http://127.0.0.1:8000/v1/get_cluster_labels {'summary': 'Cluster Labels', 'operationId': 'cluster_labels_v1_get_cluster_labels_get', 'responses': {'200': {'description': 'Successful Response', 'content': {'application/json': {'schema': {}}}}}}\n",
      "POST /v1/get_node_labels POST http://127.0.0.1:8000/v1/get_node_labels {'summary': 'Node Labels', 'operationId': 'node_labels_v1_get_node_labels_post', 'requestBody': {'content': {'application/json': {'schema': {'properties': {'node_names': {'items': {'type': 'string'}, 'type': 'array', 'title': 'Node Names'}}, 'type': 'object', 'title': 'NodeLabelsRequest'}}}, 'required': True}, 'responses': {'200': {'description': 'Successful Response', 'content': {'application/json': {'schema': {}}}}, '422': {'description': 'Validation Error', 'content': {'application/json': {'schema': {'properties': {'detail': {'items': {'properties': {'loc': {'items': {'anyOf': [{'type': 'string'}, {'type': 'integer'}]}, 'type': 'array', 'title': 'Location'}, 'msg': {'type': 'string', 'title': 'Message'}, 'type': {'type': 'string', 'title': 'Error Type'}}, 'type': 'object', 'required': ['loc', 'msg', 'type'], 'title': 'ValidationError'}, 'type': 'array', 'title': 'Detail'}}, 'type': 'object', 'title': 'HTTPValidationError'}}}}}}\n",
      "POST /v1/get_node_stats POST http://127.0.0.1:8000/v1/get_node_stats {'summary': 'Node Stats', 'operationId': 'node_stats_v1_get_node_stats_post', 'requestBody': {'content': {'application/json': {'schema': {'properties': {'node_id': {'type': 'string', 'title': 'Node Id', 'default': 'carlosfm-desktop-2'}, 'start_time': {'type': 'string', 'title': 'Start Time', 'default': '1h'}, 'end_time': {'type': 'string', 'title': 'End Time', 'default': 'now'}, 'chunk_size': {'type': 'integer', 'title': 'Chunk Size', 'default': 1}}, 'type': 'object', 'title': 'NodeStatusRequest'}}}, 'required': True}, 'responses': {'200': {'description': 'Successful Response', 'content': {'application/json': {'schema': {}}}}, '422': {'description': 'Validation Error', 'content': {'application/json': {'schema': {'properties': {'detail': {'items': {'properties': {'loc': {'items': {'anyOf': [{'type': 'string'}, {'type': 'integer'}]}, 'type': 'array', 'title': 'Location'}, 'msg': {'type': 'string', 'title': 'Message'}, 'type': {'type': 'string', 'title': 'Error Type'}}, 'type': 'object', 'required': ['loc', 'msg', 'type'], 'title': 'ValidationError'}, 'type': 'array', 'title': 'Detail'}}, 'type': 'object', 'title': 'HTTPValidationError'}}}}}}\n",
      "POST /v1/get_nodes_cost POST http://127.0.0.1:8000/v1/get_nodes_cost {'summary': 'Node Cost', 'operationId': 'node_cost_v1_get_nodes_cost_post', 'requestBody': {'content': {'application/json': {'schema': {'properties': {'node_names': {'items': {'type': 'string'}, 'type': 'array', 'title': 'Node Names'}, 'kubecost_params': {'properties': {'aggregate': {'type': 'string', 'title': 'Aggregate'}, 'accumulate': {'type': 'boolean', 'title': 'Accumulate', 'default': True}, 'window': {'type': 'string', 'title': 'Window'}, 'step': {'type': 'string', 'title': 'Step'}, 'resolution': {'type': 'string', 'title': 'Resolution'}}, 'type': 'object', 'title': 'KubecostParameters'}}, 'type': 'object', 'required': ['node_names', 'kubecost_params'], 'title': 'NodeCostRequest'}}}, 'required': True}, 'responses': {'200': {'description': 'Successful Response', 'content': {'application/json': {'schema': {}}}}, '422': {'description': 'Validation Error', 'content': {'application/json': {'schema': {'properties': {'detail': {'items': {'properties': {'loc': {'items': {'anyOf': [{'type': 'string'}, {'type': 'integer'}]}, 'type': 'array', 'title': 'Location'}, 'msg': {'type': 'string', 'title': 'Message'}, 'type': {'type': 'string', 'title': 'Error Type'}}, 'type': 'object', 'required': ['loc', 'msg', 'type'], 'title': 'ValidationError'}, 'type': 'array', 'title': 'Detail'}}, 'type': 'object', 'title': 'HTTPValidationError'}}}}}}\n",
      "POST /v1/get_namespaces_cost POST http://127.0.0.1:8000/v1/get_namespaces_cost {'summary': 'Namespace Cost', 'operationId': 'namespace_cost_v1_get_namespaces_cost_post', 'requestBody': {'content': {'application/json': {'schema': {'properties': {'namespace_names': {'items': {'type': 'string'}, 'type': 'array', 'title': 'Namespace Names'}, 'kubecost_params': {'properties': {'aggregate': {'type': 'string', 'title': 'Aggregate'}, 'accumulate': {'type': 'boolean', 'title': 'Accumulate', 'default': True}, 'window': {'type': 'string', 'title': 'Window'}, 'step': {'type': 'string', 'title': 'Step'}, 'resolution': {'type': 'string', 'title': 'Resolution'}}, 'type': 'object', 'title': 'KubecostParameters'}}, 'type': 'object', 'required': ['namespace_names', 'kubecost_params'], 'title': 'NamespacesCostRequest'}}}, 'required': True}, 'responses': {'200': {'description': 'Successful Response', 'content': {'application/json': {'schema': {}}}}, '422': {'description': 'Validation Error', 'content': {'application/json': {'schema': {'properties': {'detail': {'items': {'properties': {'loc': {'items': {'anyOf': [{'type': 'string'}, {'type': 'integer'}]}, 'type': 'array', 'title': 'Location'}, 'msg': {'type': 'string', 'title': 'Message'}, 'type': {'type': 'string', 'title': 'Error Type'}}, 'type': 'object', 'required': ['loc', 'msg', 'type'], 'title': 'ValidationError'}, 'type': 'array', 'title': 'Detail'}}, 'type': 'object', 'title': 'HTTPValidationError'}}}}}}\n",
      "POST /v1/deploy_deepsparse_model POST http://127.0.0.1:8000/v1/deploy_deepsparse_model {'summary': 'Namespace Cost', 'operationId': 'namespace_cost_v1_deploy_deepsparse_model_post', 'requestBody': {'content': {'application/json': {'schema': {'properties': {'namespace': {'type': 'string', 'title': 'Namespace'}, 'deployment_name': {'type': 'string', 'title': 'Deployment Name'}, 'deepsparse_model_id': {'type': 'string', 'title': 'Deepsparse Model Id'}, 'task': {'type': 'string', 'title': 'Task'}, 'num_cores': {'type': 'integer', 'title': 'Num Cores'}, 'ram_memory': {'type': 'string', 'title': 'Ram Memory'}, 'ephemeral_memory': {'type': 'string', 'title': 'Ephemeral Memory'}, 'replicas': {'type': 'integer', 'title': 'Replicas'}}, 'type': 'object', 'required': ['namespace', 'deployment_name', 'deepsparse_model_id', 'task', 'num_cores', 'ram_memory', 'ephemeral_memory', 'replicas'], 'title': 'DeepsparseDeploymentRequest'}}}, 'required': True}, 'responses': {'200': {'description': 'Successful Response', 'content': {'application/json': {'schema': {}}}}, '422': {'description': 'Validation Error', 'content': {'application/json': {'schema': {'properties': {'detail': {'items': {'properties': {'loc': {'items': {'anyOf': [{'type': 'string'}, {'type': 'integer'}]}, 'type': 'array', 'title': 'Location'}, 'msg': {'type': 'string', 'title': 'Message'}, 'type': {'type': 'string', 'title': 'Error Type'}}, 'type': 'object', 'required': ['loc', 'msg', 'type'], 'title': 'ValidationError'}, 'type': 'array', 'title': 'Detail'}}, 'type': 'object', 'title': 'HTTPValidationError'}}}}}}\n",
      "POST /v1/delete_deepsparse_model POST http://127.0.0.1:8000/v1/delete_deepsparse_model {'summary': 'Namespace Cost', 'operationId': 'namespace_cost_v1_delete_deepsparse_model_post', 'requestBody': {'content': {'application/json': {'schema': {'properties': {'namespace': {'type': 'string', 'title': 'Namespace'}, 'deployment_name': {'type': 'string', 'title': 'Deployment Name'}}, 'type': 'object', 'required': ['namespace', 'deployment_name'], 'title': 'DeepsparseDeploymentDeleteRequest'}}}, 'required': True}, 'responses': {'200': {'description': 'Successful Response', 'content': {'application/json': {'schema': {}}}}, '422': {'description': 'Validation Error', 'content': {'application/json': {'schema': {'properties': {'detail': {'items': {'properties': {'loc': {'items': {'anyOf': [{'type': 'string'}, {'type': 'integer'}]}, 'type': 'array', 'title': 'Location'}, 'msg': {'type': 'string', 'title': 'Message'}, 'type': {'type': 'string', 'title': 'Error Type'}}, 'type': 'object', 'required': ['loc', 'msg', 'type'], 'title': 'ValidationError'}, 'type': 'array', 'title': 'Detail'}}, 'type': 'object', 'title': 'HTTPValidationError'}}}}}}\n",
      "POST /v1/list_deepsparse_deployments POST http://127.0.0.1:8000/v1/list_deepsparse_deployments {'summary': 'Namespace Cost', 'operationId': 'namespace_cost_v1_list_deepsparse_deployments_post', 'requestBody': {'content': {'application/json': {'schema': {'properties': {'namespace': {'type': 'string', 'title': 'Namespace'}}, 'type': 'object', 'required': ['namespace'], 'title': 'DeepsparseDeploymentListRequest'}}}, 'required': True}, 'responses': {'200': {'description': 'Successful Response', 'content': {'application/json': {'schema': {}}}}, '422': {'description': 'Validation Error', 'content': {'application/json': {'schema': {'properties': {'detail': {'items': {'properties': {'loc': {'items': {'anyOf': [{'type': 'string'}, {'type': 'integer'}]}, 'type': 'array', 'title': 'Location'}, 'msg': {'type': 'string', 'title': 'Message'}, 'type': {'type': 'string', 'title': 'Error Type'}}, 'type': 'object', 'required': ['loc', 'msg', 'type'], 'title': 'ValidationError'}, 'type': 'array', 'title': 'Detail'}}, 'type': 'object', 'title': 'HTTPValidationError'}}}}}}\n",
      "POST /v1/deploy_generic_model POST http://127.0.0.1:8000/v1/deploy_generic_model {'summary': 'Deploy Ray Model', 'operationId': 'deploy_ray_model_v1_deploy_generic_model_post', 'requestBody': {'content': {'application/json': {'schema': {'properties': {'config': {'type': 'string', 'title': 'Config'}}, 'type': 'object', 'required': ['config'], 'title': 'GenericDeploymentRequest'}}}, 'required': True}, 'responses': {'200': {'description': 'Successful Response', 'content': {'application/json': {'schema': {}}}}, '422': {'description': 'Validation Error', 'content': {'application/json': {'schema': {'properties': {'detail': {'items': {'properties': {'loc': {'items': {'anyOf': [{'type': 'string'}, {'type': 'integer'}]}, 'type': 'array', 'title': 'Location'}, 'msg': {'type': 'string', 'title': 'Message'}, 'type': {'type': 'string', 'title': 'Error Type'}}, 'type': 'object', 'required': ['loc', 'msg', 'type'], 'title': 'ValidationError'}, 'type': 'array', 'title': 'Detail'}}, 'type': 'object', 'title': 'HTTPValidationError'}}}}}}\n"
     ]
    }
   ],
   "source": [
    "belt = FastApiToolFactory(\n",
    "    service_url=\"http://127.0.0.1:8000\"\n",
    ")\n",
    "belt.introspect_service()\n",
    "\n",
    "for t in  belt.tools:\n",
    "    print(t.name, t.method, t.endpoint_url, t.params)"
   ]
  },
  {
   "cell_type": "code",
   "execution_count": null,
   "metadata": {},
   "outputs": [],
   "source": [
    "from prance import ResolvingParser\n",
    "\n",
    "# Load and resolve an OpenAPI specification file\n",
    "parser = ResolvingParser(belt.service_url+\"/openapi.json\")\n",
    "\n",
    "# Now, parser.specification holds the fully resolved spec as a dictionary\n",
    "resolved_spec = parser.specification\n",
    "\n",
    "# You can access paths and components directly\n",
    "paths = resolved_spec.get"
   ]
  },
  {
   "cell_type": "code",
   "execution_count": null,
   "metadata": {},
   "outputs": [
    {
     "data": {
      "text/plain": [
       "{'/v1/get_cluster_capacity': {'get': {'summary': 'Cluster Capacity',\n",
       "   'operationId': 'cluster_capacity_v1_get_cluster_capacity_get',\n",
       "   'responses': {'200': {'description': 'Successful Response',\n",
       "     'content': {'application/json': {'schema': {}}}}}}},\n",
       " '/v1/get_cluster_labels': {'get': {'summary': 'Cluster Labels',\n",
       "   'operationId': 'cluster_labels_v1_get_cluster_labels_get',\n",
       "   'responses': {'200': {'description': 'Successful Response',\n",
       "     'content': {'application/json': {'schema': {}}}}}}},\n",
       " '/v1/get_node_labels': {'post': {'summary': 'Node Labels',\n",
       "   'operationId': 'node_labels_v1_get_node_labels_post',\n",
       "   'requestBody': {'content': {'application/json': {'schema': {'properties': {'node_names': {'items': {'type': 'string'},\n",
       "         'type': 'array',\n",
       "         'title': 'Node Names'}},\n",
       "       'type': 'object',\n",
       "       'title': 'NodeLabelsRequest'}}},\n",
       "    'required': True},\n",
       "   'responses': {'200': {'description': 'Successful Response',\n",
       "     'content': {'application/json': {'schema': {}}}},\n",
       "    '422': {'description': 'Validation Error',\n",
       "     'content': {'application/json': {'schema': {'properties': {'detail': {'items': {'properties': {'loc': {'items': {'anyOf': [{'type': 'string'},\n",
       "               {'type': 'integer'}]},\n",
       "             'type': 'array',\n",
       "             'title': 'Location'},\n",
       "            'msg': {'type': 'string', 'title': 'Message'},\n",
       "            'type': {'type': 'string', 'title': 'Error Type'}},\n",
       "           'type': 'object',\n",
       "           'required': ['loc', 'msg', 'type'],\n",
       "           'title': 'ValidationError'},\n",
       "          'type': 'array',\n",
       "          'title': 'Detail'}},\n",
       "        'type': 'object',\n",
       "        'title': 'HTTPValidationError'}}}}}}},\n",
       " '/v1/get_node_stats': {'post': {'summary': 'Node Stats',\n",
       "   'operationId': 'node_stats_v1_get_node_stats_post',\n",
       "   'requestBody': {'content': {'application/json': {'schema': {'properties': {'node_id': {'type': 'string',\n",
       "         'title': 'Node Id',\n",
       "         'default': 'carlosfm-desktop-2'},\n",
       "        'start_time': {'type': 'string',\n",
       "         'title': 'Start Time',\n",
       "         'default': '1h'},\n",
       "        'end_time': {'type': 'string', 'title': 'End Time', 'default': 'now'},\n",
       "        'chunk_size': {'type': 'integer',\n",
       "         'title': 'Chunk Size',\n",
       "         'default': 1}},\n",
       "       'type': 'object',\n",
       "       'title': 'NodeStatusRequest'}}},\n",
       "    'required': True},\n",
       "   'responses': {'200': {'description': 'Successful Response',\n",
       "     'content': {'application/json': {'schema': {}}}},\n",
       "    '422': {'description': 'Validation Error',\n",
       "     'content': {'application/json': {'schema': {'properties': {'detail': {'items': {'properties': {'loc': {'items': {'anyOf': [{'type': 'string'},\n",
       "               {'type': 'integer'}]},\n",
       "             'type': 'array',\n",
       "             'title': 'Location'},\n",
       "            'msg': {'type': 'string', 'title': 'Message'},\n",
       "            'type': {'type': 'string', 'title': 'Error Type'}},\n",
       "           'type': 'object',\n",
       "           'required': ['loc', 'msg', 'type'],\n",
       "           'title': 'ValidationError'},\n",
       "          'type': 'array',\n",
       "          'title': 'Detail'}},\n",
       "        'type': 'object',\n",
       "        'title': 'HTTPValidationError'}}}}}}},\n",
       " '/v1/get_nodes_cost': {'post': {'summary': 'Node Cost',\n",
       "   'operationId': 'node_cost_v1_get_nodes_cost_post',\n",
       "   'requestBody': {'content': {'application/json': {'schema': {'properties': {'node_names': {'items': {'type': 'string'},\n",
       "         'type': 'array',\n",
       "         'title': 'Node Names'},\n",
       "        'kubecost_params': {'properties': {'aggregate': {'type': 'string',\n",
       "           'title': 'Aggregate'},\n",
       "          'accumulate': {'type': 'boolean',\n",
       "           'title': 'Accumulate',\n",
       "           'default': True},\n",
       "          'window': {'type': 'string', 'title': 'Window'},\n",
       "          'step': {'type': 'string', 'title': 'Step'},\n",
       "          'resolution': {'type': 'string', 'title': 'Resolution'}},\n",
       "         'type': 'object',\n",
       "         'title': 'KubecostParameters'}},\n",
       "       'type': 'object',\n",
       "       'required': ['node_names', 'kubecost_params'],\n",
       "       'title': 'NodeCostRequest'}}},\n",
       "    'required': True},\n",
       "   'responses': {'200': {'description': 'Successful Response',\n",
       "     'content': {'application/json': {'schema': {}}}},\n",
       "    '422': {'description': 'Validation Error',\n",
       "     'content': {'application/json': {'schema': {'properties': {'detail': {'items': {'properties': {'loc': {'items': {'anyOf': [{'type': 'string'},\n",
       "               {'type': 'integer'}]},\n",
       "             'type': 'array',\n",
       "             'title': 'Location'},\n",
       "            'msg': {'type': 'string', 'title': 'Message'},\n",
       "            'type': {'type': 'string', 'title': 'Error Type'}},\n",
       "           'type': 'object',\n",
       "           'required': ['loc', 'msg', 'type'],\n",
       "           'title': 'ValidationError'},\n",
       "          'type': 'array',\n",
       "          'title': 'Detail'}},\n",
       "        'type': 'object',\n",
       "        'title': 'HTTPValidationError'}}}}}}},\n",
       " '/v1/get_namespaces_cost': {'post': {'summary': 'Namespace Cost',\n",
       "   'operationId': 'namespace_cost_v1_get_namespaces_cost_post',\n",
       "   'requestBody': {'content': {'application/json': {'schema': {'properties': {'namespace_names': {'items': {'type': 'string'},\n",
       "         'type': 'array',\n",
       "         'title': 'Namespace Names'},\n",
       "        'kubecost_params': {'properties': {'aggregate': {'type': 'string',\n",
       "           'title': 'Aggregate'},\n",
       "          'accumulate': {'type': 'boolean',\n",
       "           'title': 'Accumulate',\n",
       "           'default': True},\n",
       "          'window': {'type': 'string', 'title': 'Window'},\n",
       "          'step': {'type': 'string', 'title': 'Step'},\n",
       "          'resolution': {'type': 'string', 'title': 'Resolution'}},\n",
       "         'type': 'object',\n",
       "         'title': 'KubecostParameters'}},\n",
       "       'type': 'object',\n",
       "       'required': ['namespace_names', 'kubecost_params'],\n",
       "       'title': 'NamespacesCostRequest'}}},\n",
       "    'required': True},\n",
       "   'responses': {'200': {'description': 'Successful Response',\n",
       "     'content': {'application/json': {'schema': {}}}},\n",
       "    '422': {'description': 'Validation Error',\n",
       "     'content': {'application/json': {'schema': {'properties': {'detail': {'items': {'properties': {'loc': {'items': {'anyOf': [{'type': 'string'},\n",
       "               {'type': 'integer'}]},\n",
       "             'type': 'array',\n",
       "             'title': 'Location'},\n",
       "            'msg': {'type': 'string', 'title': 'Message'},\n",
       "            'type': {'type': 'string', 'title': 'Error Type'}},\n",
       "           'type': 'object',\n",
       "           'required': ['loc', 'msg', 'type'],\n",
       "           'title': 'ValidationError'},\n",
       "          'type': 'array',\n",
       "          'title': 'Detail'}},\n",
       "        'type': 'object',\n",
       "        'title': 'HTTPValidationError'}}}}}}},\n",
       " '/v1/deploy_deepsparse_model': {'post': {'summary': 'Namespace Cost',\n",
       "   'operationId': 'namespace_cost_v1_deploy_deepsparse_model_post',\n",
       "   'requestBody': {'content': {'application/json': {'schema': {'properties': {'namespace': {'type': 'string',\n",
       "         'title': 'Namespace'},\n",
       "        'deployment_name': {'type': 'string', 'title': 'Deployment Name'},\n",
       "        'deepsparse_model_id': {'type': 'string',\n",
       "         'title': 'Deepsparse Model Id'},\n",
       "        'task': {'type': 'string', 'title': 'Task'},\n",
       "        'num_cores': {'type': 'integer', 'title': 'Num Cores'},\n",
       "        'ram_memory': {'type': 'string', 'title': 'Ram Memory'},\n",
       "        'ephemeral_memory': {'type': 'string', 'title': 'Ephemeral Memory'},\n",
       "        'replicas': {'type': 'integer', 'title': 'Replicas'}},\n",
       "       'type': 'object',\n",
       "       'required': ['namespace',\n",
       "        'deployment_name',\n",
       "        'deepsparse_model_id',\n",
       "        'task',\n",
       "        'num_cores',\n",
       "        'ram_memory',\n",
       "        'ephemeral_memory',\n",
       "        'replicas'],\n",
       "       'title': 'DeepsparseDeploymentRequest'}}},\n",
       "    'required': True},\n",
       "   'responses': {'200': {'description': 'Successful Response',\n",
       "     'content': {'application/json': {'schema': {}}}},\n",
       "    '422': {'description': 'Validation Error',\n",
       "     'content': {'application/json': {'schema': {'properties': {'detail': {'items': {'properties': {'loc': {'items': {'anyOf': [{'type': 'string'},\n",
       "               {'type': 'integer'}]},\n",
       "             'type': 'array',\n",
       "             'title': 'Location'},\n",
       "            'msg': {'type': 'string', 'title': 'Message'},\n",
       "            'type': {'type': 'string', 'title': 'Error Type'}},\n",
       "           'type': 'object',\n",
       "           'required': ['loc', 'msg', 'type'],\n",
       "           'title': 'ValidationError'},\n",
       "          'type': 'array',\n",
       "          'title': 'Detail'}},\n",
       "        'type': 'object',\n",
       "        'title': 'HTTPValidationError'}}}}}}},\n",
       " '/v1/delete_deepsparse_model': {'post': {'summary': 'Namespace Cost',\n",
       "   'operationId': 'namespace_cost_v1_delete_deepsparse_model_post',\n",
       "   'requestBody': {'content': {'application/json': {'schema': {'properties': {'namespace': {'type': 'string',\n",
       "         'title': 'Namespace'},\n",
       "        'deployment_name': {'type': 'string', 'title': 'Deployment Name'}},\n",
       "       'type': 'object',\n",
       "       'required': ['namespace', 'deployment_name'],\n",
       "       'title': 'DeepsparseDeploymentDeleteRequest'}}},\n",
       "    'required': True},\n",
       "   'responses': {'200': {'description': 'Successful Response',\n",
       "     'content': {'application/json': {'schema': {}}}},\n",
       "    '422': {'description': 'Validation Error',\n",
       "     'content': {'application/json': {'schema': {'properties': {'detail': {'items': {'properties': {'loc': {'items': {'anyOf': [{'type': 'string'},\n",
       "               {'type': 'integer'}]},\n",
       "             'type': 'array',\n",
       "             'title': 'Location'},\n",
       "            'msg': {'type': 'string', 'title': 'Message'},\n",
       "            'type': {'type': 'string', 'title': 'Error Type'}},\n",
       "           'type': 'object',\n",
       "           'required': ['loc', 'msg', 'type'],\n",
       "           'title': 'ValidationError'},\n",
       "          'type': 'array',\n",
       "          'title': 'Detail'}},\n",
       "        'type': 'object',\n",
       "        'title': 'HTTPValidationError'}}}}}}},\n",
       " '/v1/list_deepsparse_deployments': {'post': {'summary': 'Namespace Cost',\n",
       "   'operationId': 'namespace_cost_v1_list_deepsparse_deployments_post',\n",
       "   'requestBody': {'content': {'application/json': {'schema': {'properties': {'namespace': {'type': 'string',\n",
       "         'title': 'Namespace'}},\n",
       "       'type': 'object',\n",
       "       'required': ['namespace'],\n",
       "       'title': 'DeepsparseDeploymentListRequest'}}},\n",
       "    'required': True},\n",
       "   'responses': {'200': {'description': 'Successful Response',\n",
       "     'content': {'application/json': {'schema': {}}}},\n",
       "    '422': {'description': 'Validation Error',\n",
       "     'content': {'application/json': {'schema': {'properties': {'detail': {'items': {'properties': {'loc': {'items': {'anyOf': [{'type': 'string'},\n",
       "               {'type': 'integer'}]},\n",
       "             'type': 'array',\n",
       "             'title': 'Location'},\n",
       "            'msg': {'type': 'string', 'title': 'Message'},\n",
       "            'type': {'type': 'string', 'title': 'Error Type'}},\n",
       "           'type': 'object',\n",
       "           'required': ['loc', 'msg', 'type'],\n",
       "           'title': 'ValidationError'},\n",
       "          'type': 'array',\n",
       "          'title': 'Detail'}},\n",
       "        'type': 'object',\n",
       "        'title': 'HTTPValidationError'}}}}}}},\n",
       " '/v1/deploy_generic_model': {'post': {'summary': 'Deploy Ray Model',\n",
       "   'operationId': 'deploy_ray_model_v1_deploy_generic_model_post',\n",
       "   'requestBody': {'content': {'application/json': {'schema': {'properties': {'config': {'type': 'string',\n",
       "         'title': 'Config'}},\n",
       "       'type': 'object',\n",
       "       'required': ['config'],\n",
       "       'title': 'GenericDeploymentRequest'}}},\n",
       "    'required': True},\n",
       "   'responses': {'200': {'description': 'Successful Response',\n",
       "     'content': {'application/json': {'schema': {}}}},\n",
       "    '422': {'description': 'Validation Error',\n",
       "     'content': {'application/json': {'schema': {'properties': {'detail': {'items': {'properties': {'loc': {'items': {'anyOf': [{'type': 'string'},\n",
       "               {'type': 'integer'}]},\n",
       "             'type': 'array',\n",
       "             'title': 'Location'},\n",
       "            'msg': {'type': 'string', 'title': 'Message'},\n",
       "            'type': {'type': 'string', 'title': 'Error Type'}},\n",
       "           'type': 'object',\n",
       "           'required': ['loc', 'msg', 'type'],\n",
       "           'title': 'ValidationError'},\n",
       "          'type': 'array',\n",
       "          'title': 'Detail'}},\n",
       "        'type': 'object',\n",
       "        'title': 'HTTPValidationError'}}}}}}}}"
      ]
     },
     "execution_count": 63,
     "metadata": {},
     "output_type": "execute_result"
    }
   ],
   "source": [
    "resolved_spec[\"paths\"]"
   ]
  },
  {
   "cell_type": "code",
   "execution_count": null,
   "metadata": {},
   "outputs": [
    {
     "data": {
      "text/plain": [
       "{'post': {'summary': 'Deploy Ray Model',\n",
       "  'operationId': 'deploy_ray_model_v1_deploy_generic_model_post',\n",
       "  'requestBody': {'content': {'application/json': {'schema': {'$ref': '#/components/schemas/GenericDeploymentRequest'}}},\n",
       "   'required': True},\n",
       "  'responses': {'200': {'description': 'Successful Response',\n",
       "    'content': {'application/json': {'schema': {}}}},\n",
       "   '422': {'description': 'Validation Error',\n",
       "    'content': {'application/json': {'schema': {'$ref': '#/components/schemas/HTTPValidationError'}}}}}}}"
      ]
     },
     "execution_count": 36,
     "metadata": {},
     "output_type": "execute_result"
    }
   ],
   "source": [
    "belt.schema[\"paths\"][\"/v1/deploy_generic_model\"]"
   ]
  },
  {
   "cell_type": "code",
   "execution_count": null,
   "metadata": {},
   "outputs": [],
   "source": [
    "api_tool= FastApiRouteTool(\n",
    "    \"test\",\"test\",\"POST\",\"http://127.0.0.1:8000/v1/deploy_generic_model\", params={}\n",
    ")"
   ]
  },
  {
   "cell_type": "code",
   "execution_count": null,
   "metadata": {},
   "outputs": [],
   "source": [
    "belt = FastApiToolFactory(\n",
    "    service_url=\"http://127.0.0.1:8000\"\n",
    ")\n",
    "belt.introspect_service()"
   ]
  },
  {
   "cell_type": "code",
   "execution_count": null,
   "metadata": {},
   "outputs": [
    {
     "name": "stdout",
     "output_type": "stream",
     "text": [
      "GET /v1/get_cluster_capacity GET http://127.0.0.1:8000/v1/get_cluster_capacity []\n",
      "GET /v1/get_cluster_labels GET http://127.0.0.1:8000/v1/get_cluster_labels []\n",
      "POST /v1/get_node_labels POST http://127.0.0.1:8000/v1/get_node_labels []\n",
      "POST /v1/get_node_stats POST http://127.0.0.1:8000/v1/get_node_stats []\n",
      "POST /v1/get_nodes_cost POST http://127.0.0.1:8000/v1/get_nodes_cost []\n",
      "POST /v1/get_namespaces_cost POST http://127.0.0.1:8000/v1/get_namespaces_cost []\n",
      "POST /v1/deploy_deepsparse_model POST http://127.0.0.1:8000/v1/deploy_deepsparse_model []\n",
      "POST /v1/delete_deepsparse_model POST http://127.0.0.1:8000/v1/delete_deepsparse_model []\n",
      "POST /v1/list_deepsparse_deployments POST http://127.0.0.1:8000/v1/list_deepsparse_deployments []\n",
      "POST /v1/deploy_generic_model POST http://127.0.0.1:8000/v1/deploy_generic_model []\n"
     ]
    }
   ],
   "source": [
    "for t in  belt.tools:\n",
    "    print(t.name, t.method, t.endpoint_url, t.params)"
   ]
  },
  {
   "cell_type": "code",
   "execution_count": null,
   "metadata": {},
   "outputs": [],
   "source": [
    "lister = belt.tools[-2]"
   ]
  },
  {
   "cell_type": "code",
   "execution_count": null,
   "metadata": {},
   "outputs": [
    {
     "data": {
      "text/plain": [
       "{'petals-deployment': {'replicas': 1,\n",
       "  'available_replicas': None,\n",
       "  'unavailable_replicas': 1,\n",
       "  'ready_replicas': None,\n",
       "  'paused': None},\n",
       " 'petals-service': {'cluster_ip': '10.43.29.157', 'ports': [[30294, 31330]]}}"
      ]
     },
     "execution_count": 33,
     "metadata": {},
     "output_type": "execute_result"
    }
   ],
   "source": [
    "lister.execute(payload={\"namespace\":\"petals-backend\"})"
   ]
  }
 ],
 "metadata": {
  "kernelspec": {
   "display_name": "kalavai",
   "language": "python",
   "name": "python3"
  },
  "language_info": {
   "codemirror_mode": {
    "name": "ipython",
    "version": 3
   },
   "file_extension": ".py",
   "mimetype": "text/x-python",
   "name": "python",
   "nbconvert_exporter": "python",
   "pygments_lexer": "ipython3",
   "version": "3.11.7"
  }
 },
 "nbformat": 4,
 "nbformat_minor": 2
}
