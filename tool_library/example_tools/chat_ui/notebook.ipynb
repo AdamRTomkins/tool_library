{
 "cells": [
  {
   "cell_type": "code",
   "execution_count": 14,
   "metadata": {},
   "outputs": [],
   "source": [
    "\n",
    "import os\n",
    "import logging\n",
    "\n",
    "from auth import auth_user\n",
    "\n",
    "\n",
    "logging.basicConfig(level=logging.DEBUG)\n",
    "logger = logging.getLogger(__name__)   \n",
    " \n",
    "\n",
    "from langchain_core.retrievers import BaseRetriever\n",
    "from langchain_core.callbacks import CallbackManagerForRetrieverRun\n",
    "from langchain_core.documents import Document\n",
    "from typing import List\n",
    "\n",
    "from chainlit.input_widget import *\n",
    "from typing import Optional\n",
    "\n",
    "import chainlit as cl\n",
    "import requests\n",
    "from typing import List, Dict, Any\n",
    "\n",
    "# Move these too a specific REPO for the RAG when we have it\n",
    "class KnowledgeClient:\n",
    "    def __init__(self, base_url: str, api_key: str):\n",
    "        self.base_url = base_url\n",
    "        self.api_key = api_key\n",
    "        self.headers = {\n",
    "            \"X-API-KEY\": self.api_key,\n",
    "            'accept': 'application/json'\n",
    "        }\n",
    "\n",
    "    def search(self, query: str, namespace:str) -> List[Dict[str, Any]]:\n",
    "        response = requests.get(f\"{self.base_url}/search/\", \n",
    "            params={\n",
    "                \"query\": query,\n",
    "                \"index_name\":namespace,\n",
    "                \"top_k\":5,\n",
    "                \"similarity_threshold\":0.1\n",
    "                },\n",
    "            headers=self.headers)\n",
    "        response.raise_for_status()\n",
    "        return response.json()\n",
    "\n",
    "    def add_items(self, files: List) -> Dict[str, Any]:\n",
    "        # Prepare multipart/form-data files\n",
    "        # Note: 'files' in requests.post() can be a list of tuples for multiple files\n",
    "        # TODO: ALIGN WITH CARLOS API\n",
    "        \n",
    "        if type(files) != list:\n",
    "            files = [files]\n",
    "        multipart_files = [('file', (f.name, f, 'application/pdf')) for f in files]\n",
    "\n",
    "        # Send the POST request to upload files\n",
    "        response = requests.post(f\"{self.base_url}/index/\", files=multipart_files, headers=self.headers)\n",
    "\n",
    "        # Close the file objects\n",
    "        for f in files:\n",
    "            f.close()\n",
    "\n",
    "        return response\n",
    "\n",
    "\n",
    "\n",
    "    def index_info(self) -> Dict[str, Any]:\n",
    "        response = requests.get(f\"{self.base_url}/info/\", headers=self.headers)\n",
    "        response.raise_for_status()\n",
    "        return response.json()\n",
    "\n",
    "class KBRetriever(BaseRetriever):\n",
    "    kb_client: Optional[KnowledgeClient] = None\n",
    "\n",
    "    def __init__(self, base_url: str, api_key: str):\n",
    "        super().__init__()\n",
    "        self.kb_client = KnowledgeClient(base_url, api_key)\n",
    "\n",
    "    def _get_relevant_documents(\n",
    "        self, query: str, *, run_manager: CallbackManagerForRetrieverRun\n",
    "    ) -> List[Document]:\n",
    "        try:\n",
    "            search_results = self.kb_client.search(query)\n",
    "            documents = [Document(page_content=result['text'], metadata=result['attributes']) for result in search_results]\n",
    "        except Exception as e:\n",
    "            documents = []\n",
    "            logger.error(f\"Error retrieving documents: {e}\")\n",
    "        return documents\n",
    "\n",
    "\n",
    "retriever = KBRetriever(\n",
    "    base_url=\"https://knowledgebase.test.k8s.mvp.kalavai.net\",\n",
    "    api_key=None\n",
    "    )"
   ]
  },
  {
   "cell_type": "code",
   "execution_count": 17,
   "metadata": {},
   "outputs": [
    {
     "name": "stderr",
     "output_type": "stream",
     "text": [
      "DEBUG:urllib3.connectionpool:Starting new HTTPS connection (1): knowledgebase.test.k8s.mvp.kalavai.net:443\n",
      "DEBUG:urllib3.connectionpool:https://knowledgebase.test.k8s.mvp.kalavai.net:443 \"GET /search/?query=ShoeCreatures+was+re-acquired&index_name=carlosfm&top_k=5&similarity_threshold=0.1 HTTP/1.1\" 200 4105\n"
     ]
    },
    {
     "name": "stdout",
     "output_type": "stream",
     "text": [
      "[{'page_content': 'increase access to large chain stores. After shifting away focus from running shoes, \\r\\nShoeCreatures experienced eight years of consecutive unprofitability and losses.\\r\\nAfter the failures under Antarctica’s ownership, ShoeCreatures was re-acquired by a \\r\\nmultinational holdings company, Berkwelsh Hemingway. Under Berkwelsh’s ownership, \\r\\nShoeCreatures was able to make independent strategic moves. ShoeCreatures decided to \\r\\nstop competing with its larger, established competitors and decided to refocus only into \\r\\nrunning products, which include shoes, clothing and accessories. As part of this new \\r\\nstrategic intent, ShoeCreatures concentrated on it’s The Lion shoes while developing\\r\\ntechnology for alternative running products, resulting in the creation of the The Cheetah, \\r\\ngeared toward runners with normal feet. ShoeCreatures aimed to be the exclusive running \\r\\nbrand and expanded its product line to satisfy runners of all ages and styles. Rather than\\r\\nspending on advertising, ShoeCreatures went straight to runners’ feet. By sending sales \\r\\nrepresentatives to specialty running stores, the company built relationships with these \\r\\nstores and connected directly with its target consumers. They also travelled to \\r\\nindependent running events, college campuses, and had specialized “running gurus” in \\r\\ncertain stores. Through its new strategy, ShoeCreatures made developments that were \\r\\nimpossible for larger brands competing in multiple athletic categories (i.e., beyond \\r\\nrunning) to replicate. ShoeCreatures’s “Run Wild” motto conveyed a fun, light-hearted \\r\\nbrand image, while also offering a superior running shoe for its customers.', 'metadata': {'source': '/kb_data/MBA Past exam.pdf', 'page': 0}, 'type': 'Document', 'state': {'embedded_doc': None, 'query_similarity_score': 0.6493006848763461}}, {'page_content': 'Example of past Exam (with 2 questions; there will be 4 questions for the Exam \\r\\n2024)\\r\\nFrank Shorter’s 1972 Olympic marathon gold medal inspired more than 25 million \\r\\nAmericans to purchase their first running shoes and start long-distance running during a \\r\\nperiod referred to as “the first running boom.” During the running boom, ShoeCreatures\\r\\nInc. introduced The Lion product line, the first running shoe assisting runners with over\\x02pronation to prevent injuries occurring from excessive inward rolling after landing. The \\r\\nproduct was of high quality and customers were willing to pay high prices. It was also \\r\\nonly available in specialized running stores instead of large athletic chain stores. Led by \\r\\nthis new product, ShoeCreatures became one of the top three shoe brands by the 1970s. \\r\\nHowever, the success was short-lived as larger companies such as Nike and more \\r\\nnewcomers started to squeeze the market. With increasing competition, ShoeCreatures\\r\\nwas left overexposed to business downturn, leading to financial difficulties. \\r\\nShoeCreatures began cutting costs by sacrificing quality, utilizing cheaper materials in \\r\\nthe designing and manufacturing of its footwear, lowering prices to regain customers, and \\r\\neven at times distributing its products to discount chain stores with retail prices as low as \\r\\n$20—a significant decrease from its earlier $90 pricing point.\\r\\nDeclining in the athletic industry, ShoeCreatures was acquired by Antarctica in 1982. \\r\\nAntarctica was a large apparel company that had traditionally relied on acquisition \\r\\nstrategies to expand. Antarctica’s products ranged from hiking apparel to casual shoes. In \\r\\nan attempt to overcome challenges in the running shoe market, Antarctica led \\r\\nShoeCreatures to expand in-house production into other sporting goods, including\\r\\nfootball cleats, ice skates, and boxing shoes. Antarctica’s goal was for ShoeCreatures to\\r\\nleapfrog into a large athletic company, which could subsequently cut costs, prices, and', 'metadata': {'source': '/kb_data/MBA Past exam.pdf', 'page': 0}, 'type': 'Document', 'state': {'embedded_doc': None, 'query_similarity_score': 0.4932005688497738}}]\n"
     ]
    }
   ],
   "source": [
    "import requests\n",
    "\n",
    "url = \"https://knowledgebase.test.k8s.mvp.kalavai.net/search/\"\n",
    "params = {\n",
    "    'query': 'ShoeCreatures was re-acquired',\n",
    "    'index_name': 'carlosfm',\n",
    "    'top_k': 5,\n",
    "    'similarity_threshold': 0.1\n",
    "}\n",
    "headers = {\n",
    "    'accept': 'application/json'\n",
    "}\n",
    "\n",
    "response = requests.get(url, params=params, headers=headers)\n",
    "data = response.json()\n",
    "\n",
    "print(data)\n",
    "\n"
   ]
  },
  {
   "cell_type": "code",
   "execution_count": 16,
   "metadata": {},
   "outputs": [
    {
     "name": "stderr",
     "output_type": "stream",
     "text": [
      "DEBUG:urllib3.connectionpool:Starting new HTTPS connection (1): knowledgebase.test.k8s.mvp.kalavai.net:443\n",
      "DEBUG:urllib3.connectionpool:https://knowledgebase.test.k8s.mvp.kalavai.net:443 \"GET /search/?query=+ShoeCreatures+was+re-acquired&index_name=carlosfm HTTP/1.1\" 422 285\n"
     ]
    },
    {
     "ename": "HTTPError",
     "evalue": "422 Client Error: Unprocessable Entity for url: https://knowledgebase.test.k8s.mvp.kalavai.net/search/?query=+ShoeCreatures+was+re-acquired&index_name=carlosfm",
     "output_type": "error",
     "traceback": [
      "\u001b[0;31m---------------------------------------------------------------------------\u001b[0m",
      "\u001b[0;31mHTTPError\u001b[0m                                 Traceback (most recent call last)",
      "Cell \u001b[0;32mIn[16], line 1\u001b[0m\n\u001b[0;32m----> 1\u001b[0m \u001b[43mretriever\u001b[49m\u001b[38;5;241;43m.\u001b[39;49m\u001b[43mkb_client\u001b[49m\u001b[38;5;241;43m.\u001b[39;49m\u001b[43msearch\u001b[49m\u001b[43m(\u001b[49m\u001b[38;5;124;43m\"\u001b[39;49m\u001b[38;5;124;43m ShoeCreatures was re-acquired\u001b[39;49m\u001b[38;5;124;43m\"\u001b[39;49m\u001b[43m,\u001b[49m\u001b[43m \u001b[49m\u001b[38;5;124;43m\"\u001b[39;49m\u001b[38;5;124;43mcarlosfm\u001b[39;49m\u001b[38;5;124;43m\"\u001b[39;49m\u001b[43m)\u001b[49m\n",
      "Cell \u001b[0;32mIn[14], line 33\u001b[0m, in \u001b[0;36mKnowledgeClient.search\u001b[0;34m(self, query, namespace)\u001b[0m\n\u001b[1;32m     30\u001b[0m \u001b[38;5;28;01mdef\u001b[39;00m \u001b[38;5;21msearch\u001b[39m(\u001b[38;5;28mself\u001b[39m, query: \u001b[38;5;28mstr\u001b[39m, namespace:\u001b[38;5;28mstr\u001b[39m) \u001b[38;5;241m-\u001b[39m\u001b[38;5;241m>\u001b[39m List[Dict[\u001b[38;5;28mstr\u001b[39m, Any]]:\n\u001b[1;32m     31\u001b[0m     response \u001b[38;5;241m=\u001b[39m requests\u001b[38;5;241m.\u001b[39mget(\u001b[38;5;124mf\u001b[39m\u001b[38;5;124m\"\u001b[39m\u001b[38;5;132;01m{\u001b[39;00m\u001b[38;5;28mself\u001b[39m\u001b[38;5;241m.\u001b[39mbase_url\u001b[38;5;132;01m}\u001b[39;00m\u001b[38;5;124m/search/\u001b[39m\u001b[38;5;124m\"\u001b[39m, \n\u001b[1;32m     32\u001b[0m         params\u001b[38;5;241m=\u001b[39m{\u001b[38;5;124m\"\u001b[39m\u001b[38;5;124mquery\u001b[39m\u001b[38;5;124m\"\u001b[39m: query,\u001b[38;5;124m\"\u001b[39m\u001b[38;5;124mindex_name\u001b[39m\u001b[38;5;124m\"\u001b[39m:namespace}, headers\u001b[38;5;241m=\u001b[39m\u001b[38;5;28mself\u001b[39m\u001b[38;5;241m.\u001b[39mheaders)\n\u001b[0;32m---> 33\u001b[0m     \u001b[43mresponse\u001b[49m\u001b[38;5;241;43m.\u001b[39;49m\u001b[43mraise_for_status\u001b[49m\u001b[43m(\u001b[49m\u001b[43m)\u001b[49m\n\u001b[1;32m     34\u001b[0m     \u001b[38;5;28;01mreturn\u001b[39;00m response\u001b[38;5;241m.\u001b[39mjson()\n",
      "File \u001b[0;32m~/miniconda3/envs/kalavai/lib/python3.9/site-packages/requests/models.py:1021\u001b[0m, in \u001b[0;36mResponse.raise_for_status\u001b[0;34m(self)\u001b[0m\n\u001b[1;32m   1016\u001b[0m     http_error_msg \u001b[38;5;241m=\u001b[39m (\n\u001b[1;32m   1017\u001b[0m         \u001b[38;5;124mf\u001b[39m\u001b[38;5;124m\"\u001b[39m\u001b[38;5;132;01m{\u001b[39;00m\u001b[38;5;28mself\u001b[39m\u001b[38;5;241m.\u001b[39mstatus_code\u001b[38;5;132;01m}\u001b[39;00m\u001b[38;5;124m Server Error: \u001b[39m\u001b[38;5;132;01m{\u001b[39;00mreason\u001b[38;5;132;01m}\u001b[39;00m\u001b[38;5;124m for url: \u001b[39m\u001b[38;5;132;01m{\u001b[39;00m\u001b[38;5;28mself\u001b[39m\u001b[38;5;241m.\u001b[39murl\u001b[38;5;132;01m}\u001b[39;00m\u001b[38;5;124m\"\u001b[39m\n\u001b[1;32m   1018\u001b[0m     )\n\u001b[1;32m   1020\u001b[0m \u001b[38;5;28;01mif\u001b[39;00m http_error_msg:\n\u001b[0;32m-> 1021\u001b[0m     \u001b[38;5;28;01mraise\u001b[39;00m HTTPError(http_error_msg, response\u001b[38;5;241m=\u001b[39m\u001b[38;5;28mself\u001b[39m)\n",
      "\u001b[0;31mHTTPError\u001b[0m: 422 Client Error: Unprocessable Entity for url: https://knowledgebase.test.k8s.mvp.kalavai.net/search/?query=+ShoeCreatures+was+re-acquired&index_name=carlosfm"
     ]
    }
   ],
   "source": [
    "retriever.kb_client.search(\" ShoeCreatures was re-acquired\", \"carlosfm\")"
   ]
  },
  {
   "cell_type": "code",
   "execution_count": null,
   "metadata": {},
   "outputs": [],
   "source": [
    "https://knowledgebase.test.k8s.mvp.kalavai.net/search/?query=+ShoeCreatures+was+re-acquired&index_name=carlosfm\n",
    "https://knowledgebase.test.k8s.mvp.kalavai.net/search/?query=%20ShoeCreatures%20was%20re-acquired&index_name=carlosfm&top_k=5&similarity_threshold=0.1"
   ]
  }
 ],
 "metadata": {
  "kernelspec": {
   "display_name": "kalavai",
   "language": "python",
   "name": "python3"
  },
  "language_info": {
   "codemirror_mode": {
    "name": "ipython",
    "version": 3
   },
   "file_extension": ".py",
   "mimetype": "text/x-python",
   "name": "python",
   "nbconvert_exporter": "python",
   "pygments_lexer": "ipython3",
   "version": "3.9.15"
  }
 },
 "nbformat": 4,
 "nbformat_minor": 2
}
